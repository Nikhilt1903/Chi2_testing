{
 "cells": [
  {
   "cell_type": "markdown",
   "id": "2dbf0472",
   "metadata": {},
   "source": [
    "# 1. State the Hypotheses:"
   ]
  },
  {
   "cell_type": "code",
   "execution_count": null,
   "id": "cb03af17",
   "metadata": {},
   "outputs": [],
   "source": [
    "#H0 (Null Hypothesis):There is no association between the type of device and customer satisfaction.\n",
    "#H1 (Alternative Hypothesis):There is a significant association between the type of device and customer satisfaction."
   ]
  },
  {
   "cell_type": "markdown",
   "id": "c00599f6",
   "metadata": {},
   "source": [
    "# 2. Compute the Chi-Square Statistic:"
   ]
  },
  {
   "cell_type": "code",
   "execution_count": 1,
   "id": "44cbc6a9",
   "metadata": {},
   "outputs": [],
   "source": [
    "import numpy as np\n",
    "import pandas as pd\n",
    "from scipy.stats import chi2_contingency"
   ]
  },
  {
   "cell_type": "code",
   "execution_count": 2,
   "id": "b053cd27",
   "metadata": {},
   "outputs": [],
   "source": [
    "#in order to perform the chi square we need to create a contingency table for the values we are comparing\n",
    "data=np.array([[50,70],   #Very Satisfied\n",
    "[80,100], #Satisfied\n",
    " [60,90], #Neutral\n",
    "  [30,50], #Unsatisfied\n",
    "[20,50]]) #Very Unsatisfied\n",
    "chi2,p,dof,expected = chi2_contingency(data)"
   ]
  },
  {
   "cell_type": "code",
   "execution_count": 7,
   "id": "b37ebc17",
   "metadata": {},
   "outputs": [
    {
     "name": "stdout",
     "output_type": "stream",
     "text": [
      "Chi2 value 5.638227513227513\n",
      "p value 0.22784371130697179\n",
      "degrees of freedom 4\n",
      "Expected value [[ 48.  72.]\n",
      " [ 72. 108.]\n",
      " [ 60.  90.]\n",
      " [ 32.  48.]\n",
      " [ 28.  42.]]\n"
     ]
    }
   ],
   "source": [
    "print(\"Chi2 value\",chi2)\n",
    "print(\"p value\",p)\n",
    "print(\"degrees of freedom\",dof)\n",
    "print(\"Expected value\", expected)"
   ]
  },
  {
   "cell_type": "markdown",
   "id": "6ecaff01",
   "metadata": {},
   "source": [
    "# 3.Determine the Critical Value:"
   ]
  },
  {
   "cell_type": "code",
   "execution_count": 10,
   "id": "fe7bdefb",
   "metadata": {},
   "outputs": [
    {
     "name": "stdout",
     "output_type": "stream",
     "text": [
      "Critical value is : 9.487729036781154\n"
     ]
    }
   ],
   "source": [
    "alpha=0.05 #given in dataset\n",
    "df=4 #(no of rows -1 )*(no of clo-1)=(5-1)*(2-1)=4\n",
    "from scipy.stats import chi2\n",
    "critical_value=chi2.ppf(1-0.05,df=4)\n",
    "chi2_value=5.638227513227513\n",
    "print(\"Critical value is :\",critical_value)"
   ]
  },
  {
   "cell_type": "markdown",
   "id": "3350e233",
   "metadata": {},
   "source": [
    "# 4. Make a Decision:"
   ]
  },
  {
   "cell_type": "code",
   "execution_count": 12,
   "id": "92c78be7",
   "metadata": {},
   "outputs": [
    {
     "name": "stdout",
     "output_type": "stream",
     "text": [
      "Fail to reject the null hypothesis.\n"
     ]
    }
   ],
   "source": [
    "if chi2_value > critical_value:\n",
    "    print(\"Reject the null hypothesis.\")\n",
    "else:\n",
    "    print(\"Fail to reject the null hypothesis.\")"
   ]
  },
  {
   "cell_type": "code",
   "execution_count": 13,
   "id": "4dc57675",
   "metadata": {},
   "outputs": [],
   "source": [
    "#from the above evaluation we found that that the chi2_value < critical value\n",
    "#therefore we fail to reject null hypothesis\n",
    "#we can conclude that There is no association between the type of device and customer satisfaction."
   ]
  },
  {
   "cell_type": "code",
   "execution_count": null,
   "id": "ff19e90d",
   "metadata": {},
   "outputs": [],
   "source": []
  }
 ],
 "metadata": {
  "kernelspec": {
   "display_name": "Python 3 (ipykernel)",
   "language": "python",
   "name": "python3"
  },
  "language_info": {
   "codemirror_mode": {
    "name": "ipython",
    "version": 3
   },
   "file_extension": ".py",
   "mimetype": "text/x-python",
   "name": "python",
   "nbconvert_exporter": "python",
   "pygments_lexer": "ipython3",
   "version": "3.9.13"
  }
 },
 "nbformat": 4,
 "nbformat_minor": 5
}
